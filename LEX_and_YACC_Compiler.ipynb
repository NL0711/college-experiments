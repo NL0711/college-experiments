{
  "nbformat": 4,
  "nbformat_minor": 0,
  "metadata": {
    "colab": {
      "provenance": [],
      "include_colab_link": true
    },
    "kernelspec": {
      "name": "python3",
      "display_name": "Python 3"
    },
    "language_info": {
      "name": "python"
    }
  },
  "cells": [
    {
      "cell_type": "markdown",
      "metadata": {
        "id": "view-in-github",
        "colab_type": "text"
      },
      "source": [
        "<a href=\"https://colab.research.google.com/github/NL0711/college-experiments/blob/main/LEX_and_YACC_Compiler.ipynb\" target=\"_parent\"><img src=\"https://colab.research.google.com/assets/colab-badge.svg\" alt=\"Open In Colab\"/></a>"
      ]
    },
    {
      "cell_type": "markdown",
      "source": [
        "# LEX and YACC Compiler in Colab\n",
        "\n",
        "Drawbacks:\n",
        "* Regular interrupts (Ctrl+D, Ctrl+C) for shell won't work in Colab while inputting for program.\n",
        "<br>Workaround: Store your inputs in a txt file and pass it to the program."
      ],
      "metadata": {
        "id": "Az09-x9PnHPq"
      }
    },
    {
      "cell_type": "code",
      "source": [
        "#@title Install *prerqeuisites* (run this cell first to work on LEX/YACC)\n",
        "!sudo apt install flex bison"
      ],
      "metadata": {
        "cellView": "form",
        "id": "CM_9N3RogX8y",
        "collapsed": true,
        "colab": {
          "base_uri": "https://localhost:8080/"
        },
        "outputId": "6fcfb2a2-103e-4484-c37d-ece8bcd03ab6"
      },
      "execution_count": 1,
      "outputs": [
        {
          "output_type": "stream",
          "name": "stdout",
          "text": [
            "Reading package lists... Done\n",
            "Building dependency tree... Done\n",
            "Reading state information... Done\n",
            "The following additional packages will be installed:\n",
            "  libfl-dev libfl2\n",
            "Suggested packages:\n",
            "  bison-doc flex-doc\n",
            "The following NEW packages will be installed:\n",
            "  bison flex libfl-dev libfl2\n",
            "0 upgraded, 4 newly installed, 0 to remove and 38 not upgraded.\n",
            "Need to get 1,072 kB of archives.\n",
            "After this operation, 3,667 kB of additional disk space will be used.\n",
            "Get:1 http://archive.ubuntu.com/ubuntu jammy/main amd64 flex amd64 2.6.4-8build2 [307 kB]\n",
            "Get:2 http://archive.ubuntu.com/ubuntu jammy/main amd64 bison amd64 2:3.8.2+dfsg-1build1 [748 kB]\n",
            "Get:3 http://archive.ubuntu.com/ubuntu jammy/main amd64 libfl2 amd64 2.6.4-8build2 [10.7 kB]\n",
            "Get:4 http://archive.ubuntu.com/ubuntu jammy/main amd64 libfl-dev amd64 2.6.4-8build2 [6,236 B]\n",
            "Fetched 1,072 kB in 3s (393 kB/s)\n",
            "debconf: unable to initialize frontend: Dialog\n",
            "debconf: (No usable dialog-like program is installed, so the dialog based frontend cannot be used. at /usr/share/perl5/Debconf/FrontEnd/Dialog.pm line 78, <> line 4.)\n",
            "debconf: falling back to frontend: Readline\n",
            "debconf: unable to initialize frontend: Readline\n",
            "debconf: (This frontend requires a controlling tty.)\n",
            "debconf: falling back to frontend: Teletype\n",
            "dpkg-preconfigure: unable to re-open stdin: \n",
            "Selecting previously unselected package flex.\n",
            "(Reading database ... 126718 files and directories currently installed.)\n",
            "Preparing to unpack .../flex_2.6.4-8build2_amd64.deb ...\n",
            "Unpacking flex (2.6.4-8build2) ...\n",
            "Selecting previously unselected package bison.\n",
            "Preparing to unpack .../bison_2%3a3.8.2+dfsg-1build1_amd64.deb ...\n",
            "Unpacking bison (2:3.8.2+dfsg-1build1) ...\n",
            "Selecting previously unselected package libfl2:amd64.\n",
            "Preparing to unpack .../libfl2_2.6.4-8build2_amd64.deb ...\n",
            "Unpacking libfl2:amd64 (2.6.4-8build2) ...\n",
            "Selecting previously unselected package libfl-dev:amd64.\n",
            "Preparing to unpack .../libfl-dev_2.6.4-8build2_amd64.deb ...\n",
            "Unpacking libfl-dev:amd64 (2.6.4-8build2) ...\n",
            "Setting up flex (2.6.4-8build2) ...\n",
            "Setting up libfl2:amd64 (2.6.4-8build2) ...\n",
            "Setting up bison (2:3.8.2+dfsg-1build1) ...\n",
            "update-alternatives: using /usr/bin/bison.yacc to provide /usr/bin/yacc (yacc) in auto mode\n",
            "Setting up libfl-dev:amd64 (2.6.4-8build2) ...\n",
            "Processing triggers for man-db (2.10.2-1) ...\n",
            "Processing triggers for libc-bin (2.35-0ubuntu3.8) ...\n",
            "/sbin/ldconfig.real: /usr/local/lib/libtcm.so.1 is not a symbolic link\n",
            "\n",
            "/sbin/ldconfig.real: /usr/local/lib/libtbb.so.12 is not a symbolic link\n",
            "\n",
            "/sbin/ldconfig.real: /usr/local/lib/libumf.so.0 is not a symbolic link\n",
            "\n",
            "/sbin/ldconfig.real: /usr/local/lib/libur_adapter_level_zero.so.0 is not a symbolic link\n",
            "\n",
            "/sbin/ldconfig.real: /usr/local/lib/libtbbmalloc_proxy.so.2 is not a symbolic link\n",
            "\n",
            "/sbin/ldconfig.real: /usr/local/lib/libtbbmalloc.so.2 is not a symbolic link\n",
            "\n",
            "/sbin/ldconfig.real: /usr/local/lib/libur_adapter_opencl.so.0 is not a symbolic link\n",
            "\n",
            "/sbin/ldconfig.real: /usr/local/lib/libtbbbind_2_0.so.3 is not a symbolic link\n",
            "\n",
            "/sbin/ldconfig.real: /usr/local/lib/libhwloc.so.15 is not a symbolic link\n",
            "\n",
            "/sbin/ldconfig.real: /usr/local/lib/libur_loader.so.0 is not a symbolic link\n",
            "\n",
            "/sbin/ldconfig.real: /usr/local/lib/libur_adapter_level_zero_v2.so.0 is not a symbolic link\n",
            "\n",
            "/sbin/ldconfig.real: /usr/local/lib/libtbbbind_2_5.so.3 is not a symbolic link\n",
            "\n",
            "/sbin/ldconfig.real: /usr/local/lib/libtcm_debug.so.1 is not a symbolic link\n",
            "\n",
            "/sbin/ldconfig.real: /usr/local/lib/libtbbbind.so.3 is not a symbolic link\n",
            "\n"
          ]
        }
      ]
    },
    {
      "cell_type": "markdown",
      "source": [
        "## Lex only"
      ],
      "metadata": {
        "id": "0IYbRG4He38g"
      }
    },
    {
      "cell_type": "code",
      "execution_count": 165,
      "metadata": {
        "colab": {
          "base_uri": "https://localhost:8080/"
        },
        "id": "Jyt0i_pTexWf",
        "outputId": "c14861ef-2e6d-4bca-e562-41b8295ce417"
      },
      "outputs": [
        {
          "output_type": "stream",
          "name": "stdout",
          "text": [
            "Overwriting program.l\n"
          ]
        }
      ],
      "source": [
        "#@title Writing Lex program\n",
        "%%writefile program.l\n",
        "\n",
        "%{\n",
        "#include<stdio.h>\n",
        "int ctComment = 0;\n",
        "%}\n",
        "\n",
        "%%\n",
        "\n",
        "^#.* {ctComment++;}\n",
        ".    { fprintf(yyout, \"%s\", yytext); }\n",
        "\n",
        "%%\n",
        "void main(int argc, char *argv[]){\n",
        "  extern FILE *yyout;\n",
        "\n",
        "    if(argc!=3){\n",
        "        printf(\"Usage:\\n\\t./a.out <FILENAME>\\n\");\n",
        "        exit(0);\n",
        "    }\n",
        "\n",
        "    yyin=fopen(argv[1],\"r\");\n",
        "    yyout = fopen(argv[2], \"w\");\n",
        "    yylex();\n",
        "    printf(\"Comment Count: %d\", ctComment);\n",
        "    fclose(yyin);\n",
        "    fclose(yyout);\n",
        "  }\n",
        "\n",
        "int yywrap(){\n",
        "    return 1;\n",
        "}"
      ]
    },
    {
      "cell_type": "markdown",
      "source": [
        "if you want to use at txt as an input"
      ],
      "metadata": {
        "id": "erI5UjQzg3Sy"
      }
    },
    {
      "cell_type": "code",
      "source": [
        "%%writefile program.txt\n",
        "\n",
        "If you see warnings such as WARNING:disk-full or ERROR:403, investigate.\n",
        "#Test strings with angle brackets and comparisons like a <= b and a != b.\n",
        "#to ensure the parser handles <, >, :, ;, ?, &, and % correctly.\n",
        "\n"
      ],
      "metadata": {
        "colab": {
          "base_uri": "https://localhost:8080/"
        },
        "id": "MUUdcBtRgtjf",
        "outputId": "eafb3949-183a-4868-a643-42354a34c3c9"
      },
      "execution_count": 157,
      "outputs": [
        {
          "output_type": "stream",
          "name": "stdout",
          "text": [
            "Overwriting program.txt\n"
          ]
        }
      ]
    },
    {
      "cell_type": "code",
      "source": [
        "%%writefile output.txt\n",
        "\n"
      ],
      "metadata": {
        "colab": {
          "base_uri": "https://localhost:8080/"
        },
        "outputId": "176e5d9b-5ae2-4c3e-9552-627c2de8b77f",
        "id": "IC1tvv16i9GH"
      },
      "execution_count": 158,
      "outputs": [
        {
          "output_type": "stream",
          "name": "stdout",
          "text": [
            "Overwriting output.txt\n"
          ]
        }
      ]
    },
    {
      "cell_type": "code",
      "source": [
        "#@title Shell Execution (you can rewrite the commands as per your need, eg. if you want to include a file as an input)\n",
        "%%shell\n",
        "\n",
        "lex -l program.l\n",
        "gcc lex.yy.c\n",
        "./a.out program.txt output.txt"
      ],
      "metadata": {
        "colab": {
          "base_uri": "https://localhost:8080/"
        },
        "id": "tqpZgNYpe263",
        "outputId": "cd4846af-c8e8-4b99-c5f9-e4c2c76f72e3"
      },
      "execution_count": 166,
      "outputs": [
        {
          "output_type": "stream",
          "name": "stdout",
          "text": [
            "Comment Count: 2"
          ]
        },
        {
          "output_type": "execute_result",
          "data": {
            "text/plain": []
          },
          "metadata": {},
          "execution_count": 166
        }
      ]
    },
    {
      "cell_type": "code",
      "source": [
        "%%shell\n",
        "cat output.txt"
      ],
      "metadata": {
        "id": "LYMs5Qzcj2Fx",
        "outputId": "4ccd1a80-e7b2-4b6a-ed33-59e0eb1f63c4",
        "colab": {
          "base_uri": "https://localhost:8080/"
        }
      },
      "execution_count": 167,
      "outputs": [
        {
          "output_type": "stream",
          "name": "stdout",
          "text": [
            "\n",
            "If you see warnings such as WARNING:disk-full or ERROR:403, investigate.\n",
            "\n",
            "\n",
            "\n"
          ]
        },
        {
          "output_type": "execute_result",
          "data": {
            "text/plain": []
          },
          "metadata": {},
          "execution_count": 167
        }
      ]
    },
    {
      "cell_type": "markdown",
      "source": [
        "## Lex and Yacc combined"
      ],
      "metadata": {
        "id": "9g3qzHuCe9s1"
      }
    },
    {
      "cell_type": "code",
      "source": [
        "#@title Writing YACC program\n",
        "%%writefile program.y\n",
        "\n",
        "%{\n",
        "    #include<stdio.h>\n",
        "    #include<stdlib.h>\n",
        "%}\n",
        "%token DIGIT LETTER UND NL\n",
        "%%\n",
        "stmt: variable NL {printf(\"Valid Identifier\\n\");exit(0);}\n",
        "variable: LETTER alphanumeric;\n",
        "alphanumeric: LETTER alphanumeric\n",
        "            | DIGIT alphanumeric\n",
        "            | UND alphanumeric\n",
        "            | LETTER\n",
        "            | DIGIT\n",
        "            | UND;\n",
        "%%\n",
        "\n",
        "int yyerror(){\n",
        "    printf(\"Invalid Identifier\\n\");\n",
        "    exit(0);\n",
        "}\n",
        "\n",
        "void main(){\n",
        "    printf(\"Enter the variable name: \");\n",
        "    yyparse();\n",
        "}"
      ],
      "metadata": {
        "colab": {
          "base_uri": "https://localhost:8080/"
        },
        "id": "PR_WVl_3kvjz",
        "outputId": "a19ffcd6-84d8-4a15-f1fe-5dd124b35450"
      },
      "execution_count": null,
      "outputs": [
        {
          "output_type": "stream",
          "name": "stdout",
          "text": [
            "Overwriting program.y\n"
          ]
        }
      ]
    },
    {
      "cell_type": "code",
      "execution_count": null,
      "metadata": {
        "colab": {
          "base_uri": "https://localhost:8080/"
        },
        "outputId": "ae488aa8-96d1-4cab-c243-5097cc230c51",
        "id": "d_jqt4ajkllz"
      },
      "outputs": [
        {
          "output_type": "stream",
          "name": "stdout",
          "text": [
            "Overwriting program.l\n"
          ]
        }
      ],
      "source": [
        "#@title Writing Lex program\n",
        "%%writefile program.l\n",
        "\n",
        "%{\n",
        "    #include \"y.tab.h\"\n",
        "%}\n",
        "%%\n",
        "[a-zA-Z] {return LETTER;}\n",
        "[0-9] {return DIGIT;}\n",
        "[_] {return UND;}\n",
        "\\n {return NL;}\n",
        ". {return yytext[0];}\n",
        "%%"
      ]
    },
    {
      "cell_type": "markdown",
      "source": [
        "if you want to use at txt as an input"
      ],
      "metadata": {
        "id": "b0o39e7Ykll3"
      }
    },
    {
      "cell_type": "code",
      "source": [
        "%%writefile program.txt\n",
        "\n",
        "This is a sample file."
      ],
      "metadata": {
        "id": "vna5Qg34kll4"
      },
      "execution_count": null,
      "outputs": []
    },
    {
      "cell_type": "code",
      "source": [
        "#@title Shell Execution (you can rewrite the commands as per your need, eg. if you want to include a file as an input)\n",
        "%%shell\n",
        "\n",
        "yacc -d program.y\n",
        "lex program.l\n",
        "cc y.tab.c lex.yy.c -ll\n",
        "./a.out"
      ],
      "metadata": {
        "colab": {
          "base_uri": "https://localhost:8080/"
        },
        "outputId": "edd8a233-74c0-471c-fa30-f023ef7ff458",
        "id": "nqs9Nq64kll4"
      },
      "execution_count": null,
      "outputs": [
        {
          "output_type": "stream",
          "name": "stdout",
          "text": [
            "\u001b[01m\u001b[Ky.tab.c:\u001b[m\u001b[K In function ‘\u001b[01m\u001b[Kyyparse\u001b[m\u001b[K’:\n",
            "\u001b[01m\u001b[Ky.tab.c:1121:16:\u001b[m\u001b[K \u001b[01;35m\u001b[Kwarning: \u001b[m\u001b[Kimplicit declaration of function ‘\u001b[01m\u001b[Kyylex\u001b[m\u001b[K’ [\u001b[01;35m\u001b[K-Wimplicit-function-declaration\u001b[m\u001b[K]\n",
            "       yychar = \u001b[01;35m\u001b[Kyylex\u001b[m\u001b[K ();\n",
            "                \u001b[01;35m\u001b[K^~~~~\u001b[m\u001b[K\n",
            "\u001b[01m\u001b[Ky.tab.c:1256:7:\u001b[m\u001b[K \u001b[01;35m\u001b[Kwarning: \u001b[m\u001b[Kimplicit declaration of function ‘\u001b[01m\u001b[Kyyerror\u001b[m\u001b[K’; did you mean ‘\u001b[01m\u001b[Kyyerrok\u001b[m\u001b[K’? [\u001b[01;35m\u001b[K-Wimplicit-function-declaration\u001b[m\u001b[K]\n",
            "       \u001b[01;35m\u001b[Kyyerror\u001b[m\u001b[K (YY_(\"syntax error\"));\n",
            "       \u001b[01;35m\u001b[K^~~~~~~\u001b[m\u001b[K\n",
            "       \u001b[32m\u001b[Kyyerrok\u001b[m\u001b[K\n",
            "Enter the variable name: variable_name\n",
            "Valid Identifier\n"
          ]
        },
        {
          "output_type": "execute_result",
          "data": {
            "text/plain": []
          },
          "metadata": {},
          "execution_count": 21
        }
      ]
    }
  ]
}